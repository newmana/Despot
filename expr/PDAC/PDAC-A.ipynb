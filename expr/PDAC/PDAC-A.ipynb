{
 "cells": [
  {
   "cell_type": "code",
   "execution_count": 1,
   "metadata": {},
   "outputs": [
    {
     "data": {
      "text/plain": [
       "'/Users/rzh/Desktop/Despot'"
      ]
     },
     "execution_count": 1,
     "metadata": {},
     "output_type": "execute_result"
    }
   ],
   "source": [
    "# 1. Change working dictionary\n",
    "import os\n",
    "os.chdir(\"../..\")\n",
    "os.getcwd() # current working dictionary"
   ]
  },
  {
   "cell_type": "code",
   "execution_count": 2,
   "metadata": {},
   "outputs": [
    {
     "name": "stdout",
     "output_type": "stream",
     "text": [
      "Checking requirements...\n",
      "Checking Python environments...\n",
      "Python path: /Users/rzh/anaconda3/envs/STpair/bin/python\n",
      "Python version: 3.11.5 (main, Sep 11 2023, 08:31:25) [Clang 14.0.6 ]\n",
      "Python venv: /Users/rzh/anaconda3/envs/STpair\n",
      "Working Dictionary: /Users/rzh/Desktop/Despot/utils\n",
      "Checking R environments...\n",
      "R version 4.1.3 (2022-03-10) -- \"One Push-Up\"\n",
      "Copyright (C) 2022 The R Foundation for Statistical Computing\n",
      "Platform: x86_64-apple-darwin17.0 (64-bit)\n",
      "\n",
      "R is free software and comes with ABSOLUTELY NO WARRANTY.\n",
      "You are welcome to redistribute it under the terms of the\n",
      "GNU General Public License versions 2 or 3.\n",
      "For more information about these matters see\n",
      "https://www.gnu.org/licenses/.\n",
      "\n",
      "Checking basical requirements...\n",
      "All requirements satisfied.\n",
      "Importing requirements...\n",
      "All requirements imported...\n"
     ]
    }
   ],
   "source": [
    "# 2. Check Your Environment\n",
    "from utils.check import *\n",
    "print(\"Checking requirements...\")\n",
    "Check_Environments()\n",
    "Check_Requirements({\"anndata\", \"h5py\",\"matplotlib\", \"numpy\",\"collection\", \"pandas\", \"scanpy\", \"scipy\", \"torch\", \"rtree\", \"geopandas\", \"esda\"})\n",
    "print(\"Importing requirements...\")\n",
    "import json\n",
    "import shutil\n",
    "from utils.io import *\n",
    "from utils.api import Despot_Run\n",
    "print(\"All requirements imported...\")"
   ]
  },
  {
   "cell_type": "code",
   "execution_count": 3,
   "metadata": {},
   "outputs": [
    {
     "data": {
      "text/plain": [
       "{'dataPath': 'expr/PDAC',\n",
       " 'platform': 'ST',\n",
       " 'dataName': 'PDAC-A-ST1-filtered.txt.gz',\n",
       " 'imgPath': 'expr/PDAC',\n",
       " 'imgName': 'PDAC-A-ST1-HE.jpg',\n",
       " 'dataSpices': 'Human',\n",
       " 'name': 'PDAC-A',\n",
       " 'filter_matrix': True,\n",
       " 'smdFile': 'expr/PDAC/PDAC-A.h5smd',\n",
       " 'ground_truth': 'metadata.csv',\n",
       " 'ground_name': '',\n",
       " 'scDataPath': 'expr/PDAC',\n",
       " 'scType': 'txt',\n",
       " 'scBarcodes': '',\n",
       " 'scFeatures': '',\n",
       " 'scMatrix': 'PDAC-A-indrop-filtered-expMat.txt.gz',\n",
       " 'scGroundTruth': 'PDAC-A-indrop-annotation.tsv',\n",
       " 'scGroundName': 'free_annotation',\n",
       " 'load_hires': False,\n",
       " 'load_fullres': False,\n",
       " 'fullres_path': '',\n",
       " 'Decontamination': ['none', 'SPCS', 'SpotClean', 'SPROD'],\n",
       " 'Clustering': ['Seurat',\n",
       "  'Giotto',\n",
       "  'BayesSpace',\n",
       "  'SpaGCN',\n",
       "  'leiden',\n",
       "  'stlearn',\n",
       "  'SEDR'],\n",
       " 'Deconvolution': ['CARD',\n",
       "  'Seurat',\n",
       "  'Giotto',\n",
       "  'Cell2Location',\n",
       "  'SPOTlight',\n",
       "  'SPOTlight_es',\n",
       "  'SPOTlight_vae',\n",
       "  'spacexr',\n",
       "  'spacexr_es',\n",
       "  'StereoScope',\n",
       "  'StereoScope_na',\n",
       "  'StereoScope_es'],\n",
       " 'pythonPath': '/Users/rzh/anaconda3/envs/STpair/bin/python',\n",
       " 'R_library_Path': 'sptranr/R',\n",
       " 'working_dir': '/Users/rzh/Desktop/Despot',\n",
       " 'venv': 'STpair'}"
      ]
     },
     "execution_count": 3,
     "metadata": {},
     "output_type": "execute_result"
    }
   ],
   "source": [
    "# 3. Load the configs of PDAC-A and set python,R,venv path\n",
    "cfg = Load_json_configs(\"configs/PDAC-A.json\")\n",
    "# set python path\n",
    "pythonPath = sys.executable\n",
    "cfg[\"pythonPath\"] = pythonPath\n",
    "# set R lib path\n",
    "cfg[\"R_library_Path\"] = 'sptranr/R'\n",
    "# set working dictionary\n",
    "cfg[\"working_dir\"] = os.getcwd()\n",
    "# set venv\n",
    "cfg[\"venv\"] = sys.prefix.split('/')[-1]\n",
    "cfg"
   ]
  },
  {
   "cell_type": "code",
   "execution_count": null,
   "metadata": {},
   "outputs": [],
   "source": [
    "# Run Despot one-stop\n",
    "smd = Despot_Run(cfg)"
   ]
  },
  {
   "cell_type": "code",
   "execution_count": 6,
   "metadata": {},
   "outputs": [],
   "source": [
    "smd = smdInfo(cfg[\"smdFile\"])"
   ]
  },
  {
   "cell_type": "code",
   "execution_count": 8,
   "metadata": {},
   "outputs": [
    {
     "data": {
      "text/plain": [
       "array(['Acinar cells', 'Cancer clone A', 'Cancer clone B',\n",
       "       'Ductal - APOL1 high/hypoxic',\n",
       "       'Ductal - CRISP3 high/centroacinar like', 'Ductal - MHC Class II',\n",
       "       'Ductal - terminal ductal like', 'Endocrine cells',\n",
       "       'Endothelial cells', 'Fibroblasts', 'Macrophages A',\n",
       "       'Macrophages B', 'Mast cells', 'Monocytes', 'RBCs',\n",
       "       'T cells & NK cells', 'Tuft cells', 'mDCs A', 'mDCs B', 'pDCs'],\n",
       "      dtype='<U38')"
      ]
     },
     "execution_count": 8,
     "metadata": {},
     "output_type": "execute_result"
    }
   ],
   "source": [
    "smd.get_cell_types()"
   ]
  },
  {
   "cell_type": "code",
   "execution_count": 11,
   "metadata": {},
   "outputs": [
    {
     "data": {
      "text/plain": [
       "['SEDR', 'Seurat', 'SpaGCN', 'leiden']"
      ]
     },
     "execution_count": 11,
     "metadata": {},
     "output_type": "execute_result"
    }
   ],
   "source": [
    "smd.get_clu_methods(spmat=\"SPCS_mat\")"
   ]
  },
  {
   "cell_type": "code",
   "execution_count": 12,
   "metadata": {},
   "outputs": [
    {
     "data": {
      "text/plain": [
       "'ST'"
      ]
     },
     "execution_count": 12,
     "metadata": {},
     "output_type": "execute_result"
    }
   ],
   "source": [
    "smd.get_platform()"
   ]
  },
  {
   "cell_type": "code",
   "execution_count": 14,
   "metadata": {},
   "outputs": [
    {
     "data": {
      "text/plain": [
       "['CARD',\n",
       " 'SPOTlight',\n",
       " 'SPOTlight_es',\n",
       " 'SPOTlight_vae',\n",
       " 'Seurat',\n",
       " 'spacexr',\n",
       " 'spacexr_es']"
      ]
     },
     "execution_count": 14,
     "metadata": {},
     "output_type": "execute_result"
    }
   ],
   "source": [
    "smd.get_dcv_methods(spmat=\"matrix\")"
   ]
  },
  {
   "cell_type": "code",
   "execution_count": null,
   "metadata": {},
   "outputs": [],
   "source": []
  }
 ],
 "metadata": {
  "kernelspec": {
   "display_name": "Despot",
   "language": "python",
   "name": "python3"
  },
  "language_info": {
   "codemirror_mode": {
    "name": "ipython",
    "version": 3
   },
   "file_extension": ".py",
   "mimetype": "text/x-python",
   "name": "python",
   "nbconvert_exporter": "python",
   "pygments_lexer": "ipython3",
   "version": "3.11.5"
  }
 },
 "nbformat": 4,
 "nbformat_minor": 2
}
